{
 "cells": [
  {
   "cell_type": "code",
   "execution_count": 10,
   "id": "5e06735c",
   "metadata": {},
   "outputs": [
    {
     "name": "stdout",
     "output_type": "stream",
     "text": [
      "18\n",
      "1\n",
      "13\n",
      "11\n",
      "[1, 2, 34, 5, 3, 12, 9, 8]\n",
      "[1, 2, 34, 5, 3, 12, 9, 8, 67, 89, 98, 90, 39, 21, 45, 46, 23, 13, 100, 110]\n",
      "[1, 2, 34, 5, 3, 12, 9, 8, 67, 89, 98, 90, 39, 21, 45, 46, 23, 13, 100, 110, 1, 98, 100]\n"
     ]
    }
   ],
   "source": [
    "lst = [1,2,34,5,3,12,9, 8, 67, 89, 98, 90, 39, 21, 45, 46, 23, 13]\n",
    "\n",
    "print(len(lst))\n",
    "print(lst[0])\n",
    "print(lst[-1])\n",
    "print(lst.index(90))\n",
    "print(lst[:8])\n",
    "lst.append(100)\n",
    "lst.append(110)\n",
    "print(lst)\n",
    "lst.append(1)\n",
    "lst.append(98)\n",
    "lst.append(100)\n",
    "print(lst)\n"
   ]
  },
  {
   "cell_type": "code",
   "execution_count": null,
   "id": "0d84046f",
   "metadata": {},
   "outputs": [],
   "source": []
  }
 ],
 "metadata": {
  "kernelspec": {
   "display_name": "Python 3",
   "language": "python",
   "name": "python3"
  },
  "language_info": {
   "codemirror_mode": {
    "name": "ipython",
    "version": 3
   },
   "file_extension": ".py",
   "mimetype": "text/x-python",
   "name": "python",
   "nbconvert_exporter": "python",
   "pygments_lexer": "ipython3",
   "version": "3.8.8"
  }
 },
 "nbformat": 4,
 "nbformat_minor": 5
}
