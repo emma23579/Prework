{
 "cells": [
  {
   "cell_type": "code",
   "execution_count": 7,
   "id": "a347d1df",
   "metadata": {},
   "outputs": [
    {
     "name": "stdout",
     "output_type": "stream",
     "text": [
      "<class 'float'>\n",
      "<class 'str'>\n",
      "<class 'str'>\n",
      "<class 'bool'>\n",
      "<class 'str'>\n",
      "<class 'int'>\n",
      "x1 is a float and x3 is a string\n",
      "x4 is a boolean and x5 is a string\n"
     ]
    }
   ],
   "source": [
    "x1 = 1.1\n",
    "x2 = \"Ironhack\"\n",
    "x3 = \"1.1\"\n",
    "x4 = True\n",
    "x5 = \"True\"\n",
    "x6 = -1\n",
    "\n",
    "print(type(x1))\n",
    "print(type(x2))\n",
    "print(type(x3))\n",
    "print(type(x4))\n",
    "print(type(x5))\n",
    "print(type(x6))\n",
    "\n",
    "#Q1.2\n",
    "print(\"x1 is a float and x3 is a string\")\n",
    "\n",
    "#Q1.3\n",
    "print(\"x4 is a boolean and x5 is a string\")\n"
   ]
  },
  {
   "cell_type": "code",
   "execution_count": 13,
   "id": "579db692",
   "metadata": {},
   "outputs": [
    {
     "name": "stdout",
     "output_type": "stream",
     "text": [
      "Please enter an integer number: 4\n",
      "Please enter another integer number: 9\n",
      "False\n",
      "False\n",
      "True\n",
      "True\n",
      "5\n",
      "True\n"
     ]
    }
   ],
   "source": [
    "x1 = input(\"Please enter an integer number: \")\n",
    "x2 = input(\"Please enter another integer number: \")\n",
    "\n",
    "x1 = int(x1)\n",
    "x2 = int(x2)\n",
    "\n",
    "print(x1==x2)\n",
    "print(x1>x2)\n",
    "print(x1<x2)\n",
    "print(x1!=x2)\n",
    "\n",
    "x3 = x2 - x1\n",
    "print(x3)\n",
    "\n",
    "x1 += x3\n",
    "\n",
    "print(x1==x2)"
   ]
  },
  {
   "cell_type": "code",
   "execution_count": null,
   "id": "b9190076",
   "metadata": {},
   "outputs": [],
   "source": []
  }
 ],
 "metadata": {
  "kernelspec": {
   "display_name": "Python 3",
   "language": "python",
   "name": "python3"
  },
  "language_info": {
   "codemirror_mode": {
    "name": "ipython",
    "version": 3
   },
   "file_extension": ".py",
   "mimetype": "text/x-python",
   "name": "python",
   "nbconvert_exporter": "python",
   "pygments_lexer": "ipython3",
   "version": "3.8.8"
  }
 },
 "nbformat": 4,
 "nbformat_minor": 5
}
