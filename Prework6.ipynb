{
 "cells": [
  {
   "cell_type": "code",
   "execution_count": 18,
   "id": "9577b6ad",
   "metadata": {},
   "outputs": [
    {
     "name": "stdout",
     "output_type": "stream",
     "text": [
      "Saruman wins this clash\n",
      "Saruman wins this clash\n",
      "Gandalf wins this clash\n",
      "Saruman wins this clash\n",
      "Gandalf wins this clash\n",
      "Gandalf wins this clash\n",
      "Saruman wins this clash\n",
      "Gandalf wins this clash\n",
      "Gandalf wins this clash\n",
      "Gandalf wins this clash\n",
      "Gandalf wins the duel!\n"
     ]
    }
   ],
   "source": [
    "# gandalf = [10, 11, 13, 30, 22, 11, 10, 33, 22, 22]\n",
    "# saruman = [23, 66, 12, 43, 12, 10, 44, 23, 12, 17]\n",
    "\n",
    "# total_gan = empty variable to store the total number of clashes won by gandalf\n",
    "# total_sar = empty variable to store the total number of clashes won by saruman\n",
    "\n",
    "# determine who wins each clash\n",
    "#for each item in gandalfs list:\n",
    "#    if the number is greater than the corresponding number in sarumans list:\n",
    "#        print gandalf wins\n",
    "#        add number to total_gan variable\n",
    "#    elif the number is less than the number in sarumans list:\n",
    "#        print saruman wins\n",
    "#        add number to total_sar variable\n",
    "#    else:\n",
    "#        print its a draw\n",
    "#\n",
    "#if total_gan > total_sar:\n",
    "#    print gandalf wins\n",
    "#elif total_sar < total gan:\n",
    "#    print saruman wins\n",
    "#else:\n",
    "#    print its a draw\n",
    "    \n",
    "gandalf = [10, 11, 13, 30, 22, 11, 10, 33, 22, 22]\n",
    "saruman = [23, 66, 12, 43, 12, 10, 44, 23, 12, 17]\n",
    "    \n",
    "total_gan = 0\n",
    "total_sar = 0\n",
    "\n",
    "for i in range(len(gandalf)):\n",
    "    if gandalf[i] > saruman[i]:\n",
    "        print(\"Gandalf wins this clash\")\n",
    "        total_gan += 1\n",
    "    elif gandalf[i] < saruman[i]:\n",
    "        print(\"Saruman wins this clash\")\n",
    "        total_sar += 1\n",
    "    else:\n",
    "        print(\"This clash is a draw\")\n",
    "\n",
    "if total_gan > total_sar:\n",
    "    print(\"Gandalf wins the duel!\")\n",
    "elif total_gan < total_sar:\n",
    "    print(\"Saruman wins the duel!\")\n",
    "else:\n",
    "    print(\"It's a draw\")\n"
   ]
  },
  {
   "cell_type": "code",
   "execution_count": null,
   "id": "9ba6bb8e",
   "metadata": {},
   "outputs": [],
   "source": []
  }
 ],
 "metadata": {
  "kernelspec": {
   "display_name": "Python 3",
   "language": "python",
   "name": "python3"
  },
  "language_info": {
   "codemirror_mode": {
    "name": "ipython",
    "version": 3
   },
   "file_extension": ".py",
   "mimetype": "text/x-python",
   "name": "python",
   "nbconvert_exporter": "python",
   "pygments_lexer": "ipython3",
   "version": "3.8.8"
  }
 },
 "nbformat": 4,
 "nbformat_minor": 5
}
