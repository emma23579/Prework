{
 "cells": [
  {
   "cell_type": "code",
   "execution_count": 20,
   "id": "c9a876a1",
   "metadata": {},
   "outputs": [
    {
     "ename": "SyntaxError",
     "evalue": "unexpected EOF while parsing (<ipython-input-20-505b150e6d8f>, line 54)",
     "output_type": "error",
     "traceback": [
      "\u001b[0;36m  File \u001b[0;32m\"<ipython-input-20-505b150e6d8f>\"\u001b[0;36m, line \u001b[0;32m54\u001b[0m\n\u001b[0;31m    print(dict1[12]\u001b[0m\n\u001b[0m                   ^\u001b[0m\n\u001b[0;31mSyntaxError\u001b[0m\u001b[0;31m:\u001b[0m unexpected EOF while parsing\n"
     ]
    }
   ],
   "source": [
    "word_freq = {\n",
    "  'love': 25,\n",
    "  'conversation': 1,\n",
    "  'every': 6,\n",
    "  \"we're\": 1,\n",
    "  'plate': 1,\n",
    "  'sour': 1,\n",
    "  'jukebox': 1,\n",
    "  'now': 11,\n",
    "  'taxi': 1,\n",
    "  'fast': 1,\n",
    "  'bag': 1,\n",
    "  'man': 1,\n",
    "  'push': 3,\n",
    "  'baby': 14,\n",
    "  'going': 1,\n",
    "  'you': 16,\n",
    "  \"don't\": 2,\n",
    "  'one': 1,\n",
    "  'mind': 2,\n",
    "  'backseat': 1,\n",
    "  'friends': 1,\n",
    "  'then': 3,\n",
    "  'know': 2\n",
    "}\n",
    "\n",
    "print(len(word_freq))\n",
    "print(word_freq.keys())\n",
    "print(word_freq['friends'])\n",
    "print(word_freq['taxi'])\n",
    "print(word_freq['jukebox'])\n",
    "\n",
    "x = \"begin\"\n",
    "if x in word_freq.keys():\n",
    "    print(x, \"in dictionary\")\n",
    "else:\n",
    "    print(x, \"not in dictionary\")\n",
    "    \n",
    "word_freq['begin'] = 1\n",
    "word_freq['start'] = 2\n",
    "word_freq['over'] = 1\n",
    "word_freq['body'] = 17\n",
    "print(word_freq)\n",
    "\n",
    "word = list(word_freq.keys())\n",
    "\n",
    "print(word[0])\n",
    "print(word_freq['love'])\n",
    "\n",
    "print(word[-1])\n",
    "print(word_freq['body'])\n",
    "\n",
    "dict1 = {12:\"emma\", 12:\"juice\"}\n",
    "print(dict1[12]"
   ]
  },
  {
   "cell_type": "code",
   "execution_count": null,
   "id": "dffcaeb1",
   "metadata": {},
   "outputs": [],
   "source": []
  }
 ],
 "metadata": {
  "kernelspec": {
   "display_name": "Python 3",
   "language": "python",
   "name": "python3"
  },
  "language_info": {
   "codemirror_mode": {
    "name": "ipython",
    "version": 3
   },
   "file_extension": ".py",
   "mimetype": "text/x-python",
   "name": "python",
   "nbconvert_exporter": "python",
   "pygments_lexer": "ipython3",
   "version": "3.8.8"
  }
 },
 "nbformat": 4,
 "nbformat_minor": 5
}
