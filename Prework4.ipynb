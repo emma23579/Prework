{
 "cells": [
  {
   "cell_type": "code",
   "execution_count": 1,
   "id": "c9a876a1",
   "metadata": {},
   "outputs": [
    {
     "name": "stdout",
     "output_type": "stream",
     "text": [
      "23\n",
      "dict_keys(['love', 'conversation', 'every', \"we're\", 'plate', 'sour', 'jukebox', 'now', 'taxi', 'fast', 'bag', 'man', 'push', 'baby', 'going', 'you', \"don't\", 'one', 'mind', 'backseat', 'friends', 'then', 'know'])\n",
      "1\n",
      "1\n",
      "1\n",
      "begin not in dictionary\n",
      "{'love': 25, 'conversation': 1, 'every': 6, \"we're\": 1, 'plate': 1, 'sour': 1, 'jukebox': 1, 'now': 11, 'taxi': 1, 'fast': 1, 'bag': 1, 'man': 1, 'push': 3, 'baby': 14, 'going': 1, 'you': 16, \"don't\": 2, 'one': 1, 'mind': 2, 'backseat': 1, 'friends': 1, 'then': 3, 'know': 2, 'begin': 1, 'start': 2, 'over': 1, 'body': 17}\n",
      "love\n",
      "25\n",
      "body\n",
      "17\n",
      "juice\n",
      "emma\n",
      "emma\n"
     ]
    }
   ],
   "source": [
    "word_freq = {\n",
    "  'love': 25,\n",
    "  'conversation': 1,\n",
    "  'every': 6,\n",
    "  \"we're\": 1,\n",
    "  'plate': 1,\n",
    "  'sour': 1,\n",
    "  'jukebox': 1,\n",
    "  'now': 11,\n",
    "  'taxi': 1,\n",
    "  'fast': 1,\n",
    "  'bag': 1,\n",
    "  'man': 1,\n",
    "  'push': 3,\n",
    "  'baby': 14,\n",
    "  'going': 1,\n",
    "  'you': 16,\n",
    "  \"don't\": 2,\n",
    "  'one': 1,\n",
    "  'mind': 2,\n",
    "  'backseat': 1,\n",
    "  'friends': 1,\n",
    "  'then': 3,\n",
    "  'know': 2\n",
    "}\n",
    "\n",
    "print(len(word_freq))\n",
    "print(word_freq.keys())\n",
    "print(word_freq['friends'])\n",
    "print(word_freq['taxi'])\n",
    "print(word_freq['jukebox'])\n",
    "\n",
    "x = \"begin\"\n",
    "if x in word_freq.keys():\n",
    "    print(x, \"in dictionary\")\n",
    "else:\n",
    "    print(x, \"not in dictionary\")\n",
    "    \n",
    "word_freq['begin'] = 1\n",
    "word_freq['start'] = 2\n",
    "word_freq['over'] = 1\n",
    "word_freq['body'] = 17\n",
    "print(word_freq)\n",
    "\n",
    "word = list(word_freq.keys())\n",
    "\n",
    "print(word[0])\n",
    "print(word_freq['love'])\n",
    "\n",
    "print(word[-1])\n",
    "print(word_freq['body'])\n",
    "\n",
    "dict1 = {12:\"emma\", 12:\"juice\"}\n",
    "print(dict1[12])\n",
    "\n",
    "dict1 = {12:\"emma\", 13:\"emma\"}\n",
    "print(dict1[12])\n",
    "print(dict1[13])"
   ]
  },
  {
   "cell_type": "code",
   "execution_count": null,
   "id": "dffcaeb1",
   "metadata": {},
   "outputs": [],
   "source": []
  }
 ],
 "metadata": {
  "kernelspec": {
   "display_name": "Python 3",
   "language": "python",
   "name": "python3"
  },
  "language_info": {
   "codemirror_mode": {
    "name": "ipython",
    "version": 3
   },
   "file_extension": ".py",
   "mimetype": "text/x-python",
   "name": "python",
   "nbconvert_exporter": "python",
   "pygments_lexer": "ipython3",
   "version": "3.8.8"
  }
 },
 "nbformat": 4,
 "nbformat_minor": 5
}
