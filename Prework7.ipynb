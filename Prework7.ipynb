{
 "cells": [
  {
   "cell_type": "code",
   "execution_count": 5,
   "id": "31404b27",
   "metadata": {},
   "outputs": [
    {
     "name": "stdout",
     "output_type": "stream",
     "text": [
      "John is from the millenial generation\n",
      "Mari is from the Z generation\n",
      "Mich is from the baby boomer generation\n"
     ]
    }
   ],
   "source": [
    "def gen_calc (name, birth_year):\n",
    "    \n",
    "    if birth_year < 1949:\n",
    "        return f\"{name} is from the silent generation\"\n",
    "    elif 1949 <= birth_year < 1969:\n",
    "        return f\"{name} is from the baby boomer generation\"\n",
    "    elif 1969 <= birth_year < 1981:\n",
    "        return f\"{name} is from the X generation\"\n",
    "    elif 1981 <= birth_year < 1994:\n",
    "        return f\"{name} is from the millenial generation\"\n",
    "    elif birth_year >= 1994:\n",
    "        return f\"{name} is from the Z generation\"\n",
    "        \n",
    "\n",
    "print(gen_calc(\"John\", 1989))\n",
    "print(gen_calc(\"Mari\", 1995))\n",
    "print(gen_calc(\"Mich\", 1960))\n",
    "\n",
    "    "
   ]
  },
  {
   "cell_type": "code",
   "execution_count": null,
   "id": "5a8855f8",
   "metadata": {},
   "outputs": [],
   "source": []
  }
 ],
 "metadata": {
  "kernelspec": {
   "display_name": "Python 3",
   "language": "python",
   "name": "python3"
  },
  "language_info": {
   "codemirror_mode": {
    "name": "ipython",
    "version": 3
   },
   "file_extension": ".py",
   "mimetype": "text/x-python",
   "name": "python",
   "nbconvert_exporter": "python",
   "pygments_lexer": "ipython3",
   "version": "3.8.8"
  }
 },
 "nbformat": 4,
 "nbformat_minor": 5
}
