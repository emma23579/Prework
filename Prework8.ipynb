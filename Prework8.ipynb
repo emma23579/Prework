{
 "cells": [
  {
   "cell_type": "code",
   "execution_count": 8,
   "id": "acc85767",
   "metadata": {},
   "outputs": [
    {
     "name": "stdout",
     "output_type": "stream",
     "text": [
      "[68 75 79 79 87 88 90 91 96 99]\n",
      "87.5\n",
      "There can only be one median\n"
     ]
    }
   ],
   "source": [
    "import statistics as stats\n",
    "import numpy as np\n",
    "\n",
    "# Q1.1\n",
    "\n",
    "student_grades = [79, 87, 99, 96, 88, 79, 75, 68, 90, 91]\n",
    "\n",
    "print(np.sort(student_grades))\n",
    "print(stats.median(student_grades))\n",
    "print(\"There can only be one median\")\n"
   ]
  },
  {
   "cell_type": "code",
   "execution_count": 12,
   "id": "c0981d28",
   "metadata": {},
   "outputs": [
    {
     "name": "stdout",
     "output_type": "stream",
     "text": [
      "6.72\n",
      "7\n",
      "7\n",
      "[3 4 4 5 5 5 6 6 6 6 7 7 7 7 7 7 8 8 8 8 8 9 9 9 9]\n"
     ]
    }
   ],
   "source": [
    "import statistics as stats\n",
    "import numpy as np\n",
    "\n",
    "# Q1.2\n",
    "\n",
    "data = [4, 7, 5, 9, 8, 6, 7, 7, 8, 5, 6, 9, 8, 5, 8, 7, 4, 7, 3, 6, 8, 9, 7, 6, 9]\n",
    "\n",
    "print(stats.mean(data))\n",
    "print(stats.median(data))\n",
    "print(stats.mode(data))\n",
    "\n",
    "data_dictionary = {\"mean\": 6.72, \"median\": 7, \"mode\": 7}\n",
    "\n",
    "# Q1.3\n",
    "\n",
    "print(np.sort(data))\n",
    "# median\n",
    "\n",
    "# Q1.4\n",
    "\n",
    "# take the mean of the two centre values\n",
    "\n",
    "# Q1.5\n",
    "\n",
    "# outliers are values much bigger or smaller than the rest\n",
    "# the mean is the most susceptible to change from outliers\n",
    "\n"
   ]
  },
  {
   "cell_type": "code",
   "execution_count": null,
   "id": "a3652b30",
   "metadata": {},
   "outputs": [],
   "source": []
  }
 ],
 "metadata": {
  "kernelspec": {
   "display_name": "Python 3",
   "language": "python",
   "name": "python3"
  },
  "language_info": {
   "codemirror_mode": {
    "name": "ipython",
    "version": 3
   },
   "file_extension": ".py",
   "mimetype": "text/x-python",
   "name": "python",
   "nbconvert_exporter": "python",
   "pygments_lexer": "ipython3",
   "version": "3.8.8"
  }
 },
 "nbformat": 4,
 "nbformat_minor": 5
}
