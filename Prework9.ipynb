{
 "cells": [
  {
   "cell_type": "code",
   "execution_count": 10,
   "id": "99cebfc7",
   "metadata": {},
   "outputs": [
    {
     "name": "stdout",
     "output_type": "stream",
     "text": [
      "29\n",
      "2.804757862395017\n",
      "4.131182235954578\n",
      "0.0\n",
      "0\n",
      "18.5\n",
      "29.5\n",
      "7.5\n",
      "23.5\n",
      "7.5\n",
      "39.5\n"
     ]
    }
   ],
   "source": [
    "import statistics as stats\n",
    "import math\n",
    "\n",
    "# Q1.1\n",
    "\n",
    "points = [-4, 17, 25, 19, 6, 11, 7]\n",
    "\n",
    "range = max(points) - min(points)\n",
    "print(range)\n",
    "\n",
    "\n",
    "# Q1.2\n",
    "\n",
    "data = [2,4,7,1,6,8]\n",
    "data2 = [2,4,7,1,12,8]\n",
    "\n",
    "print(stats.stdev(data))\n",
    "print(stats.stdev(data2))\n",
    "\n",
    "# standard deviation increases\n",
    "\n",
    "# Q1.3\n",
    "\n",
    "# yes\n",
    "\n",
    "dataset = [5, 5, 5, 5, 5, 5]\n",
    "\n",
    "print(stats.stdev(dataset))\n",
    "print(stats.variance(dataset))\n",
    "\n",
    "# Q1.4\n",
    "\n",
    "# how much the values deviate from the mean\n",
    "# formula is: square root of the sum of each value minus the mean squared and divided by the total number of values\n",
    "# deviation cannot be negative\n",
    "\n",
    "# Q1.5\n",
    "\n",
    "data = [23, 12, 34, 65, 34, 81]\n",
    "mean = stats.mean(data)\n",
    "\n",
    "for x in data:\n",
    "    print(math.sqrt((x - mean)**2))\n",
    "    \n",
    "# Q1.6\n",
    "\n",
    "# standard deviation is the square root of the variance\n"
   ]
  },
  {
   "cell_type": "code",
   "execution_count": null,
   "id": "966f8b2f",
   "metadata": {},
   "outputs": [],
   "source": []
  }
 ],
 "metadata": {
  "kernelspec": {
   "display_name": "Python 3",
   "language": "python",
   "name": "python3"
  },
  "language_info": {
   "codemirror_mode": {
    "name": "ipython",
    "version": 3
   },
   "file_extension": ".py",
   "mimetype": "text/x-python",
   "name": "python",
   "nbconvert_exporter": "python",
   "pygments_lexer": "ipython3",
   "version": "3.8.8"
  }
 },
 "nbformat": 4,
 "nbformat_minor": 5
}
