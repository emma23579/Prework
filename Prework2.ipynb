{
 "cells": [
  {
   "cell_type": "code",
   "execution_count": 3,
   "id": "efedf9f3",
   "metadata": {},
   "outputs": [
    {
     "name": "stdout",
     "output_type": "stream",
     "text": [
      "Please enter a number: 0\n",
      "0 is neither even or odd\n"
     ]
    }
   ],
   "source": [
    "x = int(input(\"Please enter a number: \"))\n",
    "\n",
    "if x != 0:\n",
    "    if x % 2 == 0:\n",
    "        print(x, \"is even\")\n",
    "    else:\n",
    "        print(x, \"is odd\")\n",
    "else:\n",
    "    print(x, \"is neither even or odd\")"
   ]
  },
  {
   "cell_type": "code",
   "execution_count": 6,
   "id": "ad9f6533",
   "metadata": {
    "scrolled": true
   },
   "outputs": [
    {
     "name": "stdout",
     "output_type": "stream",
     "text": [
      "Please enter a number: 0\n",
      "0 is neither positive or negative\n"
     ]
    }
   ],
   "source": [
    "x = int(input(\"Please enter a number: \"))\n",
    "\n",
    "if x > 0:\n",
    "    print(x, \"is positive\")\n",
    "elif x < 0:\n",
    "    print(x, \"is negative\")\n",
    "else: \n",
    "    print(x, \"is neither positive or negative\")"
   ]
  },
  {
   "cell_type": "code",
   "execution_count": 11,
   "id": "8cb8ea2e",
   "metadata": {},
   "outputs": [
    {
     "name": "stdout",
     "output_type": "stream",
     "text": [
      "Please enter your score: 75\n",
      "Your grade is B\n"
     ]
    }
   ],
   "source": [
    "x = int(input(\"Please enter your score: \"))\n",
    "\n",
    "if 0 <= x <= 100:\n",
    "    if x < 25:\n",
    "        print(\"Your grade is F\")\n",
    "    elif 25 <= x < 45:\n",
    "        print(\"Your grade is E\")\n",
    "    elif 45 <= x < 60:\n",
    "        print(\"Your grade is D\")\n",
    "    elif 60 <= x < 75:\n",
    "        print(\"Your grade is C\")\n",
    "    elif 75 <= x < 90:\n",
    "        print(\"Your grade is B\")\n",
    "    elif x >= 90:\n",
    "        print(\"Your grade is A\")\n",
    "else:\n",
    "    print(\"Score not valid\")\n",
    "    "
   ]
  }
 ],
 "metadata": {
  "kernelspec": {
   "display_name": "Python 3",
   "language": "python",
   "name": "python3"
  },
  "language_info": {
   "codemirror_mode": {
    "name": "ipython",
    "version": 3
   },
   "file_extension": ".py",
   "mimetype": "text/x-python",
   "name": "python",
   "nbconvert_exporter": "python",
   "pygments_lexer": "ipython3",
   "version": "3.8.8"
  }
 },
 "nbformat": 4,
 "nbformat_minor": 5
}
